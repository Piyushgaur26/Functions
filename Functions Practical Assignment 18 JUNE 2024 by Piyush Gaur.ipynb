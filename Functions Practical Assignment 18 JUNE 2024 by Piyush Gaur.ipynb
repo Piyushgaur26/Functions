{
 "cells": [
  {
   "cell_type": "markdown",
   "metadata": {},
   "source": [
    "# ***Functions Practicals Assignment 18 JUNE 2024 by Piyush Gaur***"
   ]
  },
  {
   "cell_type": "markdown",
   "metadata": {},
   "source": [
    "#### 1. Write a Python Function that takes a list of numbers as input and return the sum of all even numbers in the list. "
   ]
  },
  {
   "cell_type": "code",
   "execution_count": 22,
   "metadata": {},
   "outputs": [
    {
     "data": {
      "text/plain": [
       "14"
      ]
     },
     "execution_count": 22,
     "metadata": {},
     "output_type": "execute_result"
    }
   ],
   "source": [
    "def func(x):\n",
    "    n=0\n",
    "    for i in x:\n",
    "        if i%2==0:\n",
    "            n+=i\n",
    "    return n\n",
    "\n",
    "func([1,3,5,7,6,8,9])"
   ]
  },
  {
   "cell_type": "markdown",
   "metadata": {},
   "source": [
    "---\n",
    "#### 2. Create a python function that accepts a string and return the reverse of that string.   "
   ]
  },
  {
   "cell_type": "code",
   "execution_count": 23,
   "metadata": {},
   "outputs": [
    {
     "data": {
      "text/plain": [
       "'scitylana atad evol ruaG hsuyiP'"
      ]
     },
     "execution_count": 23,
     "metadata": {},
     "output_type": "execute_result"
    }
   ],
   "source": [
    "def funcs(s):\n",
    "    return s[::-1]\n",
    "\n",
    "funcs(\"Piyush Gaur love data analytics\")"
   ]
  },
  {
   "cell_type": "markdown",
   "metadata": {},
   "source": [
    "---\n",
    "#### 3. Implement a python function that takes a list of integers and returns a new list containing the squares of each number"
   ]
  },
  {
   "cell_type": "code",
   "execution_count": 24,
   "metadata": {},
   "outputs": [
    {
     "data": {
      "text/plain": [
       "[1, 4, 9, 16, 25, 36]"
      ]
     },
     "execution_count": 24,
     "metadata": {},
     "output_type": "execute_result"
    }
   ],
   "source": [
    "L=[1,2,3,4,5,6]\n",
    "\n",
    "def sq(x):\n",
    "    return x**2\n",
    "\n",
    "list(map(sq,L))"
   ]
  },
  {
   "cell_type": "markdown",
   "metadata": {},
   "source": [
    "---\n",
    "#### 4. Write a python function that checks if a given number is prime or not from 1 to 200"
   ]
  },
  {
   "cell_type": "code",
   "execution_count": 25,
   "metadata": {},
   "outputs": [
    {
     "name": "stdout",
     "output_type": "stream",
     "text": [
      "True\n",
      "Number is out of range\n"
     ]
    }
   ],
   "source": [
    "def isPrime(x):\n",
    "    for i in range(2, int(x**0.5) + 1):\n",
    "        if x % i == 0:\n",
    "            return False\n",
    "    return True\n",
    "    \n",
    "\n",
    "def funpr(x):\n",
    "    if 1 <= x <= 200:\n",
    "        if isPrime(x):\n",
    "            return True\n",
    "        else:\n",
    "            return False\n",
    "    else :\n",
    "        print(\"Number is out of range\")\n",
    "\n",
    "print(funpr(11))\n",
    "funpr(301)"
   ]
  },
  {
   "cell_type": "markdown",
   "metadata": {},
   "source": [
    "---\n",
    "#### 5. Creates an iterator class in python that generates the fibonacci sequence upto a specified number of terms."
   ]
  },
  {
   "cell_type": "code",
   "execution_count": 27,
   "metadata": {},
   "outputs": [
    {
     "name": "stdout",
     "output_type": "stream",
     "text": [
      "Fibonacci sequence up to 10 terms:\n",
      "0 1 1 2 3 5 8 13 21 34 "
     ]
    }
   ],
   "source": [
    "class FibonacciIterator:\n",
    "    def __init__(self, num_terms):\n",
    "        self.num_terms = num_terms\n",
    "        self.current_term = 0\n",
    "        self.a, self.b = 0, 1\n",
    "\n",
    "    def __iter__(self):\n",
    "        return self\n",
    "\n",
    "    def __next__(self):\n",
    "        if self.current_term >= self.num_terms:\n",
    "            raise StopIteration\n",
    "        if self.current_term == 0:\n",
    "            self.current_term += 1\n",
    "            return self.a\n",
    "        elif self.current_term == 1:\n",
    "            self.current_term += 1\n",
    "            return self.b\n",
    "        else:\n",
    "            self.current_term += 1\n",
    "            self.a, self.b = self.b, self.a + self.b\n",
    "            return self.b\n",
    "\n",
    "# Usage\n",
    "num_terms = 10\n",
    "fib_iterator = FibonacciIterator(num_terms)\n",
    "\n",
    "print(f\"Fibonacci sequence up to {num_terms} terms:\")\n",
    "for term in fib_iterator:\n",
    "    print(term,end=\" \")\n"
   ]
  },
  {
   "cell_type": "markdown",
   "metadata": {},
   "source": [
    "---\n",
    "#### 6. Write a generator function in Python that yeilds the power of 2 upto a given exponent"
   ]
  },
  {
   "cell_type": "code",
   "execution_count": 47,
   "metadata": {},
   "outputs": [
    {
     "name": "stdout",
     "output_type": "stream",
     "text": [
      "1\n",
      "2\n",
      "4\n",
      "8\n",
      "16\n",
      "32\n"
     ]
    }
   ],
   "source": [
    "def gen(x):\n",
    "    for i in range(0,x+1):\n",
    "        yield 2**i\n",
    "\n",
    "a =gen(5)\n",
    "print(next(a))  \n",
    "print(next(a))  \n",
    "print(next(a))  \n",
    "print(next(a))  \n",
    "print(next(a))  \n",
    "print(next(a))  "
   ]
  },
  {
   "cell_type": "markdown",
   "metadata": {},
   "source": [
    "---\n",
    "#### 7. Implement a generator function that reads a file line by line and yields each line as a string"
   ]
  },
  {
   "cell_type": "code",
   "execution_count": 17,
   "metadata": {},
   "outputs": [],
   "source": [
    "\n",
    "def read_file_line_by_line(file_path):\n",
    "    with open(file_path, 'r') as file:\n",
    "        for line in file:\n",
    "            yield line.strip()  \n"
   ]
  },
  {
   "cell_type": "markdown",
   "metadata": {},
   "source": [
    "---\n",
    "#### 8. Use Lambda function in python to sort a list of tuples based on second element of each tuple."
   ]
  },
  {
   "cell_type": "code",
   "execution_count": 28,
   "metadata": {},
   "outputs": [
    {
     "data": {
      "text/plain": [
       "[(3, 'apple'), (1, 'banana'), (5, 'kiwi'), (4, 'mango'), (2, 'orange')]"
      ]
     },
     "execution_count": 28,
     "metadata": {},
     "output_type": "execute_result"
    }
   ],
   "source": [
    "tuples_list = [(1, 'banana'), (3, 'apple'), (2, 'orange'), (5, 'kiwi'), (4, 'mango')]\n",
    "\n",
    "temp=lambda x : x[1]\n",
    "\n",
    "sorted(tuples_list,key=temp)"
   ]
  },
  {
   "cell_type": "markdown",
   "metadata": {},
   "source": [
    "---\n",
    "#### 9. Write a python program that uses map() to convert a list of temperatures from Celsius to Fahrenheit "
   ]
  },
  {
   "cell_type": "code",
   "execution_count": 29,
   "metadata": {},
   "outputs": [
    {
     "data": {
      "text/plain": [
       "[73.4, 93.2, 113.0, 132.8, 118.4, 114.8]"
      ]
     },
     "execution_count": 29,
     "metadata": {},
     "output_type": "execute_result"
    }
   ],
   "source": [
    "temp_list=[23,34,45,56,48,46]\n",
    "\n",
    "def con(x):\n",
    "    return (9/5 * x) + 32\n",
    "\n",
    "list(map(con,temp_list))"
   ]
  },
  {
   "cell_type": "markdown",
   "metadata": {},
   "source": [
    "---\n",
    "#### 10. Write a python program that uses filter() to remove all the vowels from given string. "
   ]
  },
  {
   "cell_type": "code",
   "execution_count": 27,
   "metadata": {},
   "outputs": [
    {
     "name": "stdout",
     "output_type": "stream",
     "text": [
      "The filtered letters are:\n",
      "Pysh Gr"
     ]
    }
   ],
   "source": [
    "# function that filters vowels\n",
    "def fun(variable):\n",
    "    letters = ['a', 'e', 'i', 'o', 'u']\n",
    "    if (variable not in letters):\n",
    "        return True\n",
    "    else:\n",
    "        return False\n",
    "\n",
    "sequence = \"Piyush Gaur\"\n",
    "\n",
    "filtered = filter(fun, sequence)\n",
    "\n",
    "print('The filtered letters are:')\n",
    "for s in filtered:\n",
    "    print(s,end=\"\")\n"
   ]
  },
  {
   "cell_type": "markdown",
   "metadata": {},
   "source": [
    "\n",
    "\n",
    "---\n",
    "\n",
    "#### 11) Imagine an accounting routine used in a book shop. It works on a list with sublists, which look like this:\n",
    "\n",
    "```\n",
    "Order Number   Book Title and Author                         Quantity   Price per Item\n",
    "34587          Learning Python, Mark Lutz                    4          40.95\n",
    "98762          Programming Python, Mark Lutz                 5          56.80\n",
    "77226          Head First Python, Paul Barry                 3          32.95\n",
    "88112          Einführung in Python3, Bernd Klein            3          24.99\n",
    "```\n",
    "\n",
    "#### Write a Python program, which returns a list with 2-tuples. Each tuple consists of the order number and the product of the price per item and the quantity. The product should be increased by 10,- € if the value of the order is smaller than 100.00 €.\n",
    "\n",
    "#### Write a Python program using lambda and map."
   ]
  },
  {
   "cell_type": "code",
   "execution_count": 14,
   "metadata": {},
   "outputs": [
    {
     "name": "stdout",
     "output_type": "stream",
     "text": [
      "[(34587, 163.8), (98762, 284.0), (77226, 108.85), (88112, 84.97)]\n"
     ]
    }
   ],
   "source": [
    "\n",
    "orders = [\n",
    "    [34587, \"Learning Python, Mark Lutz\", 4, 40.95],\n",
    "    [98762, \"Programming Python, Mark Lutz\", 5, 56.80],\n",
    "    [77226, \"Head First Python, Paul Barry\", 3, 32.95],\n",
    "    [88112, \"Einführung in Python3, Bernd Klein\", 3, 24.99]\n",
    "]\n",
    "\n",
    "calculate_total=lambda order : (order[0], round((order[2]*order[3]),ndigits=2) if round(order[2]*order[3],ndigits=2) >=100 else  round((order[2]*order[3])+10,ndigits=2))\n",
    "\n",
    "result = list(map(calculate_total, orders))\n",
    "print(result)\n"
   ]
  }
 ],
 "metadata": {
  "kernelspec": {
   "display_name": "Python 3",
   "language": "python",
   "name": "python3"
  },
  "language_info": {
   "codemirror_mode": {
    "name": "ipython",
    "version": 3
   },
   "file_extension": ".py",
   "mimetype": "text/x-python",
   "name": "python",
   "nbconvert_exporter": "python",
   "pygments_lexer": "ipython3",
   "version": "3.11.5"
  }
 },
 "nbformat": 4,
 "nbformat_minor": 2
}
